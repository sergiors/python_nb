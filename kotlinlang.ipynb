{
 "cells": [
  {
   "cell_type": "code",
   "execution_count": 7,
   "id": "c5066d05-8377-4236-8429-3548281bc460",
   "metadata": {},
   "outputs": [
    {
     "name": "stdout",
     "output_type": "stream",
     "text": [
      "5"
     ]
    }
   ],
   "source": [
    "// https://kotlinlang.org/docs/basic-syntax.html\n",
    "\n",
    "fun main() {\n",
    "    println(\"Hello world!\")\n",
    "}\n",
    "\n",
    "var x: Int = 5\n",
    "print(x)"
   ]
  },
  {
   "cell_type": "code",
   "execution_count": 1,
   "id": "26341320-f046-439c-b28f-f3d35cade2f4",
   "metadata": {},
   "outputs": [],
   "source": [
    "class Greeter(val name: String) {\n",
    "    fun greet() {\n",
    "        println(\"Hello, $name!\")\n",
    "    }\n",
    "}"
   ]
  },
  {
   "cell_type": "code",
   "execution_count": 2,
   "id": "7301a66a-5728-4f1b-922a-f413159b23aa",
   "metadata": {},
   "outputs": [
    {
     "name": "stdout",
     "output_type": "stream",
     "text": [
      "Hello, Jupyter!\n"
     ]
    }
   ],
   "source": [
    "Greeter(\"Jupyter\").greet() // Run me"
   ]
  }
 ],
 "metadata": {
  "kernelspec": {
   "display_name": "Kotlin",
   "language": "kotlin",
   "name": "kotlin"
  },
  "language_info": {
   "codemirror_mode": "text/x-kotlin",
   "file_extension": ".kt",
   "mimetype": "text/x-kotlin",
   "name": "kotlin",
   "nbconvert_exporter": "",
   "pygments_lexer": "kotlin",
   "version": "1.9.23"
  }
 },
 "nbformat": 4,
 "nbformat_minor": 5
}
